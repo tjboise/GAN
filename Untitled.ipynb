{
 "cells": [
  {
   "cell_type": "code",
   "execution_count": 80,
   "id": "b8fcb22a",
   "metadata": {},
   "outputs": [
    {
     "name": "stdout",
     "output_type": "stream",
     "text": [
      "256 256\n",
      "<class 'numpy.ndarray'>\n"
     ]
    },
    {
     "name": "stderr",
     "output_type": "stream",
     "text": [
      "<ipython-input-80-fd04db2c5618>:32: UserWarning: Any labeled images will be returned as a boolean array. Did you mean to use a boolean array?\n",
      "  iimg = morphology.remove_small_holes(result_img, size)\n"
     ]
    },
    {
     "data": {
      "text/plain": [
       "(-0.5, 255.5, 255.5, -0.5)"
      ]
     },
     "execution_count": 80,
     "metadata": {},
     "output_type": "execute_result"
    },
    {
     "data": {
      "image/png": "[encoded data removed]",
      "text/plain": [
       "<Figure size 432x288 with 1 Axes>"
      ]
     },
     "metadata": {
      "needs_background": "light"
     },
     "output_type": "display_data"
    }
   ],
   "source": [
    "import cv2\n",
    "import matplotlib.pyplot as plt\n",
    "import numpy as np\n",
    "from skimage import data, util\n",
    "from skimage.measure import label, regionprops\n",
    "from skimage import measure, morphology\n",
    "\n",
    "#imread\n",
    "img_path = './for train/i98-0-37.png'\n",
    "img = cv2.imread(img_path,cv2.IMREAD_GRAYSCALE)\n",
    "m,n = img.shape\n",
    "print(m,n)\n",
    "#histeq\n",
    "plt.imshow(img)\n",
    "# (b, g, r) = cv2.split(img)\n",
    "# bH = cv2.equalizeHist(b)\n",
    "# gH = cv2.equalizeHist(g)\n",
    "# rH = cv2.equalizeHist(r)\n",
    "# histeq = cv2.merge((bH, gH, rH))\n",
    "#histeq = cv2.equalizeHist(img)\n",
    "\n",
    "#plt.imshow(histeq)\n",
    "\n",
    "#segment\n",
    "t1, result_img = cv2.threshold(img, 100, 255, cv2.THRESH_BINARY)\n",
    "\n",
    "#t2, otsu_img = cv2.threshold(histeq, 0, 255, cv2.THRESH_BINARY+cv2.THRESH_OTSU)\n",
    "#plt.imshow(otsu_img)\n",
    "\n",
    "\n",
    "size = 50\n",
    "iimg = morphology.remove_small_holes(result_img, size)\n",
    "iimg=~iimg\n",
    "print(type(iimg.astype(int)))\n",
    "\n",
    "plt.imshow(iimg,'gray')\n",
    "plt.axis('off')\n",
    "\n",
    "# #postprocess\n",
    "# kernel = cv2.getStructuringElement(cv2.MORPH_RECT, (3, 3))\n",
    "# #kernel = np.ones((1, 1), dtype=np.uint8)\n",
    "# # dilate = cv2.dilate(otsu_img, kernel, 1)\n",
    "# # erosion = cv2.erode(dilate, kernel, iterations=1)\n",
    "# erosion = cv2.morphologyEx(otsu_img, cv2.MORPH_CLOSE, kernel, iterations=1)\n",
    "#plt.imshow(erosion)"
   ]
  },
  {
   "cell_type": "code",
   "execution_count": 60,
   "id": "bd5978df",
   "metadata": {},
   "outputs": [
    {
     "name": "stdout",
     "output_type": "stream",
     "text": [
      "['i137-0-23.png', 'i108-0-22.png', 'i108-0-21.png', 'i120-0-26.png', 'i108-0-34.png', 'i136-0-19.png', 'i102-0-5.png', 'i102-0-7.png', 'i110-0-14.png', 'i143-0-8.png', 'i99-0-3.png', 'i100-0-11.png', 'i142-0-39.png', 'i131-0-33.png', 'i140-0-8.png', 'i137-0-46.png', 'i123-0-13.png', 'i114-0-43.png', 'i99-0-10.png', 'i131-0-20.png', 'i136-0-45.png', 'i100-0-29.png', 'i110-0-0.png', 'i143-0-33.png', 'i123-0-2.png', 'i98-0-37.png', 'i143-0-30.png', 'i100-0-27.png', 'i99-0-21.png', 'i123-0-1.png', 'i142-0-21.png', 'i143-0-35.png', 'i100-0-22.png', 'i131-0-15.png', 'i123-0-31.png', 'i115-0-5.png', 'i114-0-1.png', 'i131-0-14.png', 'i131-0-4.png', 'i142-0-1.png', 'i143-0-5.png', 'i129-0-41.png', 'i108-0-15.png', 'i120-0-3.png', 'i140-0-11.png', 'i108-0-38.png', 'i137-0-11.png', 'i99-0-46.png', 'i142-0-43.png', 'i142-0-40.png']\n"
     ]
    }
   ],
   "source": [
    "import os\n",
    "file_root = \"./for train\"\n",
    "file_list = os.listdir(file_root)\n",
    "print(file_list)\n",
    "os.mkdir('binary')"
   ]
  },
  {
   "cell_type": "code",
   "execution_count": 61,
   "id": "2d0b5f14",
   "metadata": {},
   "outputs": [
    {
     "name": "stdout",
     "output_type": "stream",
     "text": [
      "Help on built-in function mkdir in module posix:\n",
      "\n",
      "mkdir(path, mode=511, *, dir_fd=None)\n",
      "    Create a directory.\n",
      "    \n",
      "    If dir_fd is not None, it should be a file descriptor open to a directory,\n",
      "      and path should be relative; path will then be relative to that directory.\n",
      "    dir_fd may not be implemented on your platform.\n",
      "      If it is unavailable, using it will raise a NotImplementedError.\n",
      "    \n",
      "    The mode argument is ignored on Windows.\n",
      "\n"
     ]
    }
   ],
   "source": [
    "help(os.mkdir)"
   ]
  },
  {
   "cell_type": "code",
   "execution_count": null,
   "id": "2242888d",
   "metadata": {},
   "outputs": [
    {
     "name": "stderr",
     "output_type": "stream",
     "text": [
      "<ipython-input-81-29c37f60a0fd>:6: UserWarning: Any labeled images will be returned as a boolean array. Did you mean to use a boolean array?\n",
      "  iimg = morphology.remove_small_holes(result_img, size)\n"
     ]
    }
   ],
   "source": [
    "for file in file_list:\n",
    "    path=os.path.join(file_root,file)\n",
    "    img = cv2.imread(path,cv2.IMREAD_GRAYSCALE)\n",
    "    t1, result_img = cv2.threshold(img, 127, 255, cv2.THRESH_BINARY)\n",
    "    size = 200\n",
    "    iimg = morphology.remove_small_holes(result_img, size)\n",
    "    iimg=~iimg\n",
    "    plt.imshow(iimg,'gray')\n",
    "    plt.axis('off')\n",
    "    plt.savefig('./binary/'+file,dpi=600,bbox_inches = 'tight')\n",
    "\n",
    "\n"
   ]
  },
  {
   "cell_type": "code",
   "execution_count": null,
   "id": "c5021641",
   "metadata": {},
   "outputs": [],
   "source": []
  }
 ],
 "metadata": {
  "kernelspec": {
   "display_name": "Python 3",
   "language": "python",
   "name": "python3"
  },
  "language_info": {
   "codemirror_mode": {
    "name": "ipython",
    "version": 3
   },
   "file_extension": ".py",
   "mimetype": "text/x-python",
   "name": "python",
   "nbconvert_exporter": "python",
   "pygments_lexer": "ipython3",
   "version": "3.8.8"
  }
 },
 "nbformat": 4,
 "nbformat_minor": 5
}
